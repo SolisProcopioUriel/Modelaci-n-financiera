{
  "nbformat": 4,
  "nbformat_minor": 0,
  "metadata": {
    "colab": {
      "provenance": [],
      "authorship_tag": "ABX9TyODhnzvb7veyeR6ep4+5Ijo",
      "include_colab_link": true
    },
    "kernelspec": {
      "name": "python3",
      "display_name": "Python 3"
    },
    "language_info": {
      "name": "python"
    },
    "widgets": {
      "application/vnd.jupyter.widget-state+json": {
        "5abcd06bff924bc991431eca61ccae7a": {
          "model_module": "@jupyter-widgets/controls",
          "model_name": "DropdownModel",
          "model_module_version": "1.5.0",
          "state": {
            "_dom_classes": [],
            "_model_module": "@jupyter-widgets/controls",
            "_model_module_version": "1.5.0",
            "_model_name": "DropdownModel",
            "_options_labels": [
              "Europea",
              "Americana"
            ],
            "_view_count": null,
            "_view_module": "@jupyter-widgets/controls",
            "_view_module_version": "1.5.0",
            "_view_name": "DropdownView",
            "description": "Tipo de Opción:",
            "description_tooltip": null,
            "disabled": false,
            "index": 0,
            "layout": "IPY_MODEL_e56b8fef9ec749b18b7349d3908d0472",
            "style": "IPY_MODEL_2a9ca1f622ca4aabb50d667785ed23ca"
          }
        },
        "e56b8fef9ec749b18b7349d3908d0472": {
          "model_module": "@jupyter-widgets/base",
          "model_name": "LayoutModel",
          "model_module_version": "1.2.0",
          "state": {
            "_model_module": "@jupyter-widgets/base",
            "_model_module_version": "1.2.0",
            "_model_name": "LayoutModel",
            "_view_count": null,
            "_view_module": "@jupyter-widgets/base",
            "_view_module_version": "1.2.0",
            "_view_name": "LayoutView",
            "align_content": null,
            "align_items": null,
            "align_self": null,
            "border": null,
            "bottom": null,
            "display": null,
            "flex": null,
            "flex_flow": null,
            "grid_area": null,
            "grid_auto_columns": null,
            "grid_auto_flow": null,
            "grid_auto_rows": null,
            "grid_column": null,
            "grid_gap": null,
            "grid_row": null,
            "grid_template_areas": null,
            "grid_template_columns": null,
            "grid_template_rows": null,
            "height": null,
            "justify_content": null,
            "justify_items": null,
            "left": null,
            "margin": null,
            "max_height": null,
            "max_width": null,
            "min_height": null,
            "min_width": null,
            "object_fit": null,
            "object_position": null,
            "order": null,
            "overflow": null,
            "overflow_x": null,
            "overflow_y": null,
            "padding": null,
            "right": null,
            "top": null,
            "visibility": null,
            "width": null
          }
        },
        "2a9ca1f622ca4aabb50d667785ed23ca": {
          "model_module": "@jupyter-widgets/controls",
          "model_name": "DescriptionStyleModel",
          "model_module_version": "1.5.0",
          "state": {
            "_model_module": "@jupyter-widgets/controls",
            "_model_module_version": "1.5.0",
            "_model_name": "DescriptionStyleModel",
            "_view_count": null,
            "_view_module": "@jupyter-widgets/base",
            "_view_module_version": "1.2.0",
            "_view_name": "StyleView",
            "description_width": ""
          }
        },
        "ff0244c3cb154b59b5615cceb36e085e": {
          "model_module": "@jupyter-widgets/controls",
          "model_name": "DropdownModel",
          "model_module_version": "1.5.0",
          "state": {
            "_dom_classes": [],
            "_model_module": "@jupyter-widgets/controls",
            "_model_module_version": "1.5.0",
            "_model_name": "DropdownModel",
            "_options_labels": [
              "CALL",
              "PUT"
            ],
            "_view_count": null,
            "_view_module": "@jupyter-widgets/controls",
            "_view_module_version": "1.5.0",
            "_view_name": "DropdownView",
            "description": "Tipo de Contrato:",
            "description_tooltip": null,
            "disabled": false,
            "index": 0,
            "layout": "IPY_MODEL_857cd708c168411f929741496fbe2dab",
            "style": "IPY_MODEL_87b953947f93490e9c852f1e2b3cada9"
          }
        },
        "857cd708c168411f929741496fbe2dab": {
          "model_module": "@jupyter-widgets/base",
          "model_name": "LayoutModel",
          "model_module_version": "1.2.0",
          "state": {
            "_model_module": "@jupyter-widgets/base",
            "_model_module_version": "1.2.0",
            "_model_name": "LayoutModel",
            "_view_count": null,
            "_view_module": "@jupyter-widgets/base",
            "_view_module_version": "1.2.0",
            "_view_name": "LayoutView",
            "align_content": null,
            "align_items": null,
            "align_self": null,
            "border": null,
            "bottom": null,
            "display": null,
            "flex": null,
            "flex_flow": null,
            "grid_area": null,
            "grid_auto_columns": null,
            "grid_auto_flow": null,
            "grid_auto_rows": null,
            "grid_column": null,
            "grid_gap": null,
            "grid_row": null,
            "grid_template_areas": null,
            "grid_template_columns": null,
            "grid_template_rows": null,
            "height": null,
            "justify_content": null,
            "justify_items": null,
            "left": null,
            "margin": null,
            "max_height": null,
            "max_width": null,
            "min_height": null,
            "min_width": null,
            "object_fit": null,
            "object_position": null,
            "order": null,
            "overflow": null,
            "overflow_x": null,
            "overflow_y": null,
            "padding": null,
            "right": null,
            "top": null,
            "visibility": null,
            "width": null
          }
        },
        "87b953947f93490e9c852f1e2b3cada9": {
          "model_module": "@jupyter-widgets/controls",
          "model_name": "DescriptionStyleModel",
          "model_module_version": "1.5.0",
          "state": {
            "_model_module": "@jupyter-widgets/controls",
            "_model_module_version": "1.5.0",
            "_model_name": "DescriptionStyleModel",
            "_view_count": null,
            "_view_module": "@jupyter-widgets/base",
            "_view_module_version": "1.2.0",
            "_view_name": "StyleView",
            "description_width": ""
          }
        },
        "e4021bdaf6a04a70894c8f945cc0fb98": {
          "model_module": "@jupyter-widgets/controls",
          "model_name": "FloatTextModel",
          "model_module_version": "1.5.0",
          "state": {
            "_dom_classes": [],
            "_model_module": "@jupyter-widgets/controls",
            "_model_module_version": "1.5.0",
            "_model_name": "FloatTextModel",
            "_view_count": null,
            "_view_module": "@jupyter-widgets/controls",
            "_view_module_version": "1.5.0",
            "_view_name": "FloatTextView",
            "continuous_update": false,
            "description": "S_0:",
            "description_tooltip": null,
            "disabled": false,
            "layout": "IPY_MODEL_5d120e69b2bd4785926e223bd0553065",
            "step": null,
            "style": "IPY_MODEL_c7f9ca9c957b412a931adf462058d2a3",
            "value": 100
          }
        },
        "5d120e69b2bd4785926e223bd0553065": {
          "model_module": "@jupyter-widgets/base",
          "model_name": "LayoutModel",
          "model_module_version": "1.2.0",
          "state": {
            "_model_module": "@jupyter-widgets/base",
            "_model_module_version": "1.2.0",
            "_model_name": "LayoutModel",
            "_view_count": null,
            "_view_module": "@jupyter-widgets/base",
            "_view_module_version": "1.2.0",
            "_view_name": "LayoutView",
            "align_content": null,
            "align_items": null,
            "align_self": null,
            "border": null,
            "bottom": null,
            "display": null,
            "flex": null,
            "flex_flow": null,
            "grid_area": null,
            "grid_auto_columns": null,
            "grid_auto_flow": null,
            "grid_auto_rows": null,
            "grid_column": null,
            "grid_gap": null,
            "grid_row": null,
            "grid_template_areas": null,
            "grid_template_columns": null,
            "grid_template_rows": null,
            "height": null,
            "justify_content": null,
            "justify_items": null,
            "left": null,
            "margin": null,
            "max_height": null,
            "max_width": null,
            "min_height": null,
            "min_width": null,
            "object_fit": null,
            "object_position": null,
            "order": null,
            "overflow": null,
            "overflow_x": null,
            "overflow_y": null,
            "padding": null,
            "right": null,
            "top": null,
            "visibility": null,
            "width": null
          }
        },
        "c7f9ca9c957b412a931adf462058d2a3": {
          "model_module": "@jupyter-widgets/controls",
          "model_name": "DescriptionStyleModel",
          "model_module_version": "1.5.0",
          "state": {
            "_model_module": "@jupyter-widgets/controls",
            "_model_module_version": "1.5.0",
            "_model_name": "DescriptionStyleModel",
            "_view_count": null,
            "_view_module": "@jupyter-widgets/base",
            "_view_module_version": "1.2.0",
            "_view_name": "StyleView",
            "description_width": ""
          }
        },
        "718ef8523ec546f59825b5dfa99f851f": {
          "model_module": "@jupyter-widgets/controls",
          "model_name": "FloatTextModel",
          "model_module_version": "1.5.0",
          "state": {
            "_dom_classes": [],
            "_model_module": "@jupyter-widgets/controls",
            "_model_module_version": "1.5.0",
            "_model_name": "FloatTextModel",
            "_view_count": null,
            "_view_module": "@jupyter-widgets/controls",
            "_view_module_version": "1.5.0",
            "_view_name": "FloatTextView",
            "continuous_update": false,
            "description": "K:",
            "description_tooltip": null,
            "disabled": false,
            "layout": "IPY_MODEL_2c4ee079e4d6468d8322eb1dd810f6f5",
            "step": null,
            "style": "IPY_MODEL_6051c662f33647ca84cd524e38b1caa0",
            "value": 105
          }
        },
        "2c4ee079e4d6468d8322eb1dd810f6f5": {
          "model_module": "@jupyter-widgets/base",
          "model_name": "LayoutModel",
          "model_module_version": "1.2.0",
          "state": {
            "_model_module": "@jupyter-widgets/base",
            "_model_module_version": "1.2.0",
            "_model_name": "LayoutModel",
            "_view_count": null,
            "_view_module": "@jupyter-widgets/base",
            "_view_module_version": "1.2.0",
            "_view_name": "LayoutView",
            "align_content": null,
            "align_items": null,
            "align_self": null,
            "border": null,
            "bottom": null,
            "display": null,
            "flex": null,
            "flex_flow": null,
            "grid_area": null,
            "grid_auto_columns": null,
            "grid_auto_flow": null,
            "grid_auto_rows": null,
            "grid_column": null,
            "grid_gap": null,
            "grid_row": null,
            "grid_template_areas": null,
            "grid_template_columns": null,
            "grid_template_rows": null,
            "height": null,
            "justify_content": null,
            "justify_items": null,
            "left": null,
            "margin": null,
            "max_height": null,
            "max_width": null,
            "min_height": null,
            "min_width": null,
            "object_fit": null,
            "object_position": null,
            "order": null,
            "overflow": null,
            "overflow_x": null,
            "overflow_y": null,
            "padding": null,
            "right": null,
            "top": null,
            "visibility": null,
            "width": null
          }
        },
        "6051c662f33647ca84cd524e38b1caa0": {
          "model_module": "@jupyter-widgets/controls",
          "model_name": "DescriptionStyleModel",
          "model_module_version": "1.5.0",
          "state": {
            "_model_module": "@jupyter-widgets/controls",
            "_model_module_version": "1.5.0",
            "_model_name": "DescriptionStyleModel",
            "_view_count": null,
            "_view_module": "@jupyter-widgets/base",
            "_view_module_version": "1.2.0",
            "_view_name": "StyleView",
            "description_width": ""
          }
        },
        "45fba789a0b74ba5bb3897da9500b1d9": {
          "model_module": "@jupyter-widgets/controls",
          "model_name": "FloatTextModel",
          "model_module_version": "1.5.0",
          "state": {
            "_dom_classes": [],
            "_model_module": "@jupyter-widgets/controls",
            "_model_module_version": "1.5.0",
            "_model_name": "FloatTextModel",
            "_view_count": null,
            "_view_module": "@jupyter-widgets/controls",
            "_view_module_version": "1.5.0",
            "_view_name": "FloatTextView",
            "continuous_update": false,
            "description": "r:",
            "description_tooltip": null,
            "disabled": false,
            "layout": "IPY_MODEL_a8aa8d6535ae400298adf0c65cae34e0",
            "step": null,
            "style": "IPY_MODEL_8e809b27a5f245278826915c21c2bd63",
            "value": 0.1
          }
        },
        "a8aa8d6535ae400298adf0c65cae34e0": {
          "model_module": "@jupyter-widgets/base",
          "model_name": "LayoutModel",
          "model_module_version": "1.2.0",
          "state": {
            "_model_module": "@jupyter-widgets/base",
            "_model_module_version": "1.2.0",
            "_model_name": "LayoutModel",
            "_view_count": null,
            "_view_module": "@jupyter-widgets/base",
            "_view_module_version": "1.2.0",
            "_view_name": "LayoutView",
            "align_content": null,
            "align_items": null,
            "align_self": null,
            "border": null,
            "bottom": null,
            "display": null,
            "flex": null,
            "flex_flow": null,
            "grid_area": null,
            "grid_auto_columns": null,
            "grid_auto_flow": null,
            "grid_auto_rows": null,
            "grid_column": null,
            "grid_gap": null,
            "grid_row": null,
            "grid_template_areas": null,
            "grid_template_columns": null,
            "grid_template_rows": null,
            "height": null,
            "justify_content": null,
            "justify_items": null,
            "left": null,
            "margin": null,
            "max_height": null,
            "max_width": null,
            "min_height": null,
            "min_width": null,
            "object_fit": null,
            "object_position": null,
            "order": null,
            "overflow": null,
            "overflow_x": null,
            "overflow_y": null,
            "padding": null,
            "right": null,
            "top": null,
            "visibility": null,
            "width": null
          }
        },
        "8e809b27a5f245278826915c21c2bd63": {
          "model_module": "@jupyter-widgets/controls",
          "model_name": "DescriptionStyleModel",
          "model_module_version": "1.5.0",
          "state": {
            "_model_module": "@jupyter-widgets/controls",
            "_model_module_version": "1.5.0",
            "_model_name": "DescriptionStyleModel",
            "_view_count": null,
            "_view_module": "@jupyter-widgets/base",
            "_view_module_version": "1.2.0",
            "_view_name": "StyleView",
            "description_width": ""
          }
        },
        "910d7b489d664b8ebbcb77799fa38ce8": {
          "model_module": "@jupyter-widgets/controls",
          "model_name": "FloatTextModel",
          "model_module_version": "1.5.0",
          "state": {
            "_dom_classes": [],
            "_model_module": "@jupyter-widgets/controls",
            "_model_module_version": "1.5.0",
            "_model_name": "FloatTextModel",
            "_view_count": null,
            "_view_module": "@jupyter-widgets/controls",
            "_view_module_version": "1.5.0",
            "_view_name": "FloatTextView",
            "continuous_update": false,
            "description": "σ:",
            "description_tooltip": null,
            "disabled": false,
            "layout": "IPY_MODEL_b3b46ef56a59484a91990cb9c7eebe38",
            "step": null,
            "style": "IPY_MODEL_673707ce340a4161977aa1cee7a1d416",
            "value": 0.2
          }
        },
        "b3b46ef56a59484a91990cb9c7eebe38": {
          "model_module": "@jupyter-widgets/base",
          "model_name": "LayoutModel",
          "model_module_version": "1.2.0",
          "state": {
            "_model_module": "@jupyter-widgets/base",
            "_model_module_version": "1.2.0",
            "_model_name": "LayoutModel",
            "_view_count": null,
            "_view_module": "@jupyter-widgets/base",
            "_view_module_version": "1.2.0",
            "_view_name": "LayoutView",
            "align_content": null,
            "align_items": null,
            "align_self": null,
            "border": null,
            "bottom": null,
            "display": null,
            "flex": null,
            "flex_flow": null,
            "grid_area": null,
            "grid_auto_columns": null,
            "grid_auto_flow": null,
            "grid_auto_rows": null,
            "grid_column": null,
            "grid_gap": null,
            "grid_row": null,
            "grid_template_areas": null,
            "grid_template_columns": null,
            "grid_template_rows": null,
            "height": null,
            "justify_content": null,
            "justify_items": null,
            "left": null,
            "margin": null,
            "max_height": null,
            "max_width": null,
            "min_height": null,
            "min_width": null,
            "object_fit": null,
            "object_position": null,
            "order": null,
            "overflow": null,
            "overflow_x": null,
            "overflow_y": null,
            "padding": null,
            "right": null,
            "top": null,
            "visibility": null,
            "width": null
          }
        },
        "673707ce340a4161977aa1cee7a1d416": {
          "model_module": "@jupyter-widgets/controls",
          "model_name": "DescriptionStyleModel",
          "model_module_version": "1.5.0",
          "state": {
            "_model_module": "@jupyter-widgets/controls",
            "_model_module_version": "1.5.0",
            "_model_name": "DescriptionStyleModel",
            "_view_count": null,
            "_view_module": "@jupyter-widgets/base",
            "_view_module_version": "1.2.0",
            "_view_name": "StyleView",
            "description_width": ""
          }
        },
        "f90b4c4f87b8442f805a031f8cb0c9bc": {
          "model_module": "@jupyter-widgets/controls",
          "model_name": "FloatTextModel",
          "model_module_version": "1.5.0",
          "state": {
            "_dom_classes": [],
            "_model_module": "@jupyter-widgets/controls",
            "_model_module_version": "1.5.0",
            "_model_name": "FloatTextModel",
            "_view_count": null,
            "_view_module": "@jupyter-widgets/controls",
            "_view_module_version": "1.5.0",
            "_view_name": "FloatTextView",
            "continuous_update": false,
            "description": "T:",
            "description_tooltip": null,
            "disabled": false,
            "layout": "IPY_MODEL_895424628cc94e5d82765779ed1ab3b2",
            "step": null,
            "style": "IPY_MODEL_07de56fe48e446d185a86090c7847148",
            "value": 0.5
          }
        },
        "895424628cc94e5d82765779ed1ab3b2": {
          "model_module": "@jupyter-widgets/base",
          "model_name": "LayoutModel",
          "model_module_version": "1.2.0",
          "state": {
            "_model_module": "@jupyter-widgets/base",
            "_model_module_version": "1.2.0",
            "_model_name": "LayoutModel",
            "_view_count": null,
            "_view_module": "@jupyter-widgets/base",
            "_view_module_version": "1.2.0",
            "_view_name": "LayoutView",
            "align_content": null,
            "align_items": null,
            "align_self": null,
            "border": null,
            "bottom": null,
            "display": null,
            "flex": null,
            "flex_flow": null,
            "grid_area": null,
            "grid_auto_columns": null,
            "grid_auto_flow": null,
            "grid_auto_rows": null,
            "grid_column": null,
            "grid_gap": null,
            "grid_row": null,
            "grid_template_areas": null,
            "grid_template_columns": null,
            "grid_template_rows": null,
            "height": null,
            "justify_content": null,
            "justify_items": null,
            "left": null,
            "margin": null,
            "max_height": null,
            "max_width": null,
            "min_height": null,
            "min_width": null,
            "object_fit": null,
            "object_position": null,
            "order": null,
            "overflow": null,
            "overflow_x": null,
            "overflow_y": null,
            "padding": null,
            "right": null,
            "top": null,
            "visibility": null,
            "width": null
          }
        },
        "07de56fe48e446d185a86090c7847148": {
          "model_module": "@jupyter-widgets/controls",
          "model_name": "DescriptionStyleModel",
          "model_module_version": "1.5.0",
          "state": {
            "_model_module": "@jupyter-widgets/controls",
            "_model_module_version": "1.5.0",
            "_model_name": "DescriptionStyleModel",
            "_view_count": null,
            "_view_module": "@jupyter-widgets/base",
            "_view_module_version": "1.2.0",
            "_view_name": "StyleView",
            "description_width": ""
          }
        },
        "107382eb26cd4f579ad52bab4b12fa20": {
          "model_module": "@jupyter-widgets/controls",
          "model_name": "IntTextModel",
          "model_module_version": "1.5.0",
          "state": {
            "_dom_classes": [],
            "_model_module": "@jupyter-widgets/controls",
            "_model_module_version": "1.5.0",
            "_model_name": "IntTextModel",
            "_view_count": null,
            "_view_module": "@jupyter-widgets/controls",
            "_view_module_version": "1.5.0",
            "_view_name": "IntTextView",
            "continuous_update": false,
            "description": "n:",
            "description_tooltip": null,
            "disabled": false,
            "layout": "IPY_MODEL_4b16ccf3a08a485d81c31cded57e031a",
            "step": 1,
            "style": "IPY_MODEL_9439e4907edf411eb3e8f95840c005af",
            "value": 2
          }
        },
        "4b16ccf3a08a485d81c31cded57e031a": {
          "model_module": "@jupyter-widgets/base",
          "model_name": "LayoutModel",
          "model_module_version": "1.2.0",
          "state": {
            "_model_module": "@jupyter-widgets/base",
            "_model_module_version": "1.2.0",
            "_model_name": "LayoutModel",
            "_view_count": null,
            "_view_module": "@jupyter-widgets/base",
            "_view_module_version": "1.2.0",
            "_view_name": "LayoutView",
            "align_content": null,
            "align_items": null,
            "align_self": null,
            "border": null,
            "bottom": null,
            "display": null,
            "flex": null,
            "flex_flow": null,
            "grid_area": null,
            "grid_auto_columns": null,
            "grid_auto_flow": null,
            "grid_auto_rows": null,
            "grid_column": null,
            "grid_gap": null,
            "grid_row": null,
            "grid_template_areas": null,
            "grid_template_columns": null,
            "grid_template_rows": null,
            "height": null,
            "justify_content": null,
            "justify_items": null,
            "left": null,
            "margin": null,
            "max_height": null,
            "max_width": null,
            "min_height": null,
            "min_width": null,
            "object_fit": null,
            "object_position": null,
            "order": null,
            "overflow": null,
            "overflow_x": null,
            "overflow_y": null,
            "padding": null,
            "right": null,
            "top": null,
            "visibility": null,
            "width": null
          }
        },
        "9439e4907edf411eb3e8f95840c005af": {
          "model_module": "@jupyter-widgets/controls",
          "model_name": "DescriptionStyleModel",
          "model_module_version": "1.5.0",
          "state": {
            "_model_module": "@jupyter-widgets/controls",
            "_model_module_version": "1.5.0",
            "_model_name": "DescriptionStyleModel",
            "_view_count": null,
            "_view_module": "@jupyter-widgets/base",
            "_view_module_version": "1.2.0",
            "_view_name": "StyleView",
            "description_width": ""
          }
        },
        "807b165091af4c09b7e81663cd01e34b": {
          "model_module": "@jupyter-widgets/controls",
          "model_name": "ButtonModel",
          "model_module_version": "1.5.0",
          "state": {
            "_dom_classes": [],
            "_model_module": "@jupyter-widgets/controls",
            "_model_module_version": "1.5.0",
            "_model_name": "ButtonModel",
            "_view_count": null,
            "_view_module": "@jupyter-widgets/controls",
            "_view_module_version": "1.5.0",
            "_view_name": "ButtonView",
            "button_style": "",
            "description": "Calcular",
            "disabled": false,
            "icon": "",
            "layout": "IPY_MODEL_1f05018dbc194bf286af56d1a3ad97f4",
            "style": "IPY_MODEL_7bc26edd35104f838890098217e19068",
            "tooltip": ""
          }
        },
        "1f05018dbc194bf286af56d1a3ad97f4": {
          "model_module": "@jupyter-widgets/base",
          "model_name": "LayoutModel",
          "model_module_version": "1.2.0",
          "state": {
            "_model_module": "@jupyter-widgets/base",
            "_model_module_version": "1.2.0",
            "_model_name": "LayoutModel",
            "_view_count": null,
            "_view_module": "@jupyter-widgets/base",
            "_view_module_version": "1.2.0",
            "_view_name": "LayoutView",
            "align_content": null,
            "align_items": null,
            "align_self": null,
            "border": null,
            "bottom": null,
            "display": null,
            "flex": null,
            "flex_flow": null,
            "grid_area": null,
            "grid_auto_columns": null,
            "grid_auto_flow": null,
            "grid_auto_rows": null,
            "grid_column": null,
            "grid_gap": null,
            "grid_row": null,
            "grid_template_areas": null,
            "grid_template_columns": null,
            "grid_template_rows": null,
            "height": null,
            "justify_content": null,
            "justify_items": null,
            "left": null,
            "margin": null,
            "max_height": null,
            "max_width": null,
            "min_height": null,
            "min_width": null,
            "object_fit": null,
            "object_position": null,
            "order": null,
            "overflow": null,
            "overflow_x": null,
            "overflow_y": null,
            "padding": null,
            "right": null,
            "top": null,
            "visibility": null,
            "width": null
          }
        },
        "7bc26edd35104f838890098217e19068": {
          "model_module": "@jupyter-widgets/controls",
          "model_name": "ButtonStyleModel",
          "model_module_version": "1.5.0",
          "state": {
            "_model_module": "@jupyter-widgets/controls",
            "_model_module_version": "1.5.0",
            "_model_name": "ButtonStyleModel",
            "_view_count": null,
            "_view_module": "@jupyter-widgets/base",
            "_view_module_version": "1.2.0",
            "_view_name": "StyleView",
            "button_color": null,
            "font_weight": ""
          }
        },
        "58ec6c1eea384a8293290175c699ff6f": {
          "model_module": "@jupyter-widgets/output",
          "model_name": "OutputModel",
          "model_module_version": "1.0.0",
          "state": {
            "_dom_classes": [],
            "_model_module": "@jupyter-widgets/output",
            "_model_module_version": "1.0.0",
            "_model_name": "OutputModel",
            "_view_count": null,
            "_view_module": "@jupyter-widgets/output",
            "_view_module_version": "1.0.0",
            "_view_name": "OutputView",
            "layout": "IPY_MODEL_8a8aad698bcb44939d32704cb323c5dc",
            "msg_id": "",
            "outputs": [
              {
                "output_type": "stream",
                "name": "stdout",
                "text": [
                  "\n",
                  "Árbol Binomial de Precios:\n",
                  "                        1200.0000\t\n",
                  "                1113.2922\t1293.4610\t\n",
                  "        1032.8496\t1200.0000\t1394.2011\t\n",
                  "958.2195\t1113.2922\t1293.4610\t1502.7873\t\n",
                  "\n",
                  "\n",
                  "El precio de la opción PUT Americana es: 19.0876\n"
                ]
              },
              {
                "output_type": "stream",
                "name": "stdout",
                "text": [
                  "\n",
                  "Árbol Binomial de Precios:\n",
                  "                1200.0000\t\n",
                  "        1094.6839\t1315.4482\t\n",
                  "998.6108\t1200.0000\t1442.0032\t\n",
                  "\n",
                  "\n",
                  "El precio de la opción PUT Americana es: 16.7960\n"
                ]
              },
              {
                "output_type": "stream",
                "name": "stdout",
                "text": [
                  "\n",
                  "Árbol Binomial de Precios:\n",
                  "                100.0000\t\n",
                  "        90.4837\t110.5171\t\n",
                  "81.8731\t100.0000\t122.1403\t\n",
                  "\n",
                  "\n",
                  "El precio de la opción CALL Europea es: 5.8967\n"
                ]
              }
            ]
          }
        },
        "8a8aad698bcb44939d32704cb323c5dc": {
          "model_module": "@jupyter-widgets/base",
          "model_name": "LayoutModel",
          "model_module_version": "1.2.0",
          "state": {
            "_model_module": "@jupyter-widgets/base",
            "_model_module_version": "1.2.0",
            "_model_name": "LayoutModel",
            "_view_count": null,
            "_view_module": "@jupyter-widgets/base",
            "_view_module_version": "1.2.0",
            "_view_name": "LayoutView",
            "align_content": null,
            "align_items": null,
            "align_self": null,
            "border": null,
            "bottom": null,
            "display": null,
            "flex": null,
            "flex_flow": null,
            "grid_area": null,
            "grid_auto_columns": null,
            "grid_auto_flow": null,
            "grid_auto_rows": null,
            "grid_column": null,
            "grid_gap": null,
            "grid_row": null,
            "grid_template_areas": null,
            "grid_template_columns": null,
            "grid_template_rows": null,
            "height": null,
            "justify_content": null,
            "justify_items": null,
            "left": null,
            "margin": null,
            "max_height": null,
            "max_width": null,
            "min_height": null,
            "min_width": null,
            "object_fit": null,
            "object_position": null,
            "order": null,
            "overflow": null,
            "overflow_x": null,
            "overflow_y": null,
            "padding": null,
            "right": null,
            "top": null,
            "visibility": null,
            "width": null
          }
        }
      }
    }
  },
  "cells": [
    {
      "cell_type": "markdown",
      "metadata": {
        "id": "view-in-github",
        "colab_type": "text"
      },
      "source": [
        "<a href=\"https://colab.research.google.com/github/SolisProcopioUriel/Modelaci-n-financiera/blob/main/ModeloBinomial_01.ipynb\" target=\"_parent\"><img src=\"https://colab.research.google.com/assets/colab-badge.svg\" alt=\"Open In Colab\"/></a>"
      ]
    },
    {
      "cell_type": "code",
      "source": [
        "import math\n",
        "import ipywidgets as widgets\n",
        "from IPython.display import display, clear_output\n",
        "\n",
        "def calcular_precio_opcion(tipo_opcion, tipo_contrato, S_0, K, r, sigma, T, n):\n",
        "    dt = T / n\n",
        "    u = math.exp(sigma * math.sqrt(dt))\n",
        "    d = 1 / u\n",
        "    p = (math.exp(r * dt) - d) / (u - d)\n",
        "\n",
        "    # Construir el árbol de precios\n",
        "    precios = [[0.0 for _ in range(i + 1)] for i in range(n + 1)]\n",
        "    for i in range(n + 1):\n",
        "        for j in range(i + 1):\n",
        "            precios[i][j] = S_0 * (u ** j) * (d ** (i - j))\n",
        "\n",
        "    # Imprimir el árbol binomial como una matriz\n",
        "    tree_matrix_str = \"\\nÁrbol Binomial de Precios:\\n\"\n",
        "    for i in range(n + 1):\n",
        "        espacios = \" \" * (n - i) * 8  # Ajusta el espacio para la visualización\n",
        "        tree_matrix_str += espacios\n",
        "        for j in range(i + 1):\n",
        "            tree_matrix_str += f\"{precios[i][j]:.4f}\\t\"\n",
        "        tree_matrix_str += \"\\n\"\n",
        "\n",
        "    print(tree_matrix_str)\n",
        "\n",
        "    # Calcular los pagos finales según el tipo de opción y contrato\n",
        "    pagos_finales = [0.0 for _ in range(n + 1)]\n",
        "    for j in range(n + 1):\n",
        "        if tipo_contrato == \"CALL\":\n",
        "            pagos_finales[j] = max(0, precios[n][j] - K)\n",
        "        elif tipo_contrato == \"PUT\":\n",
        "            pagos_finales[j] = max(0, K - precios[n][j])\n",
        "\n",
        "    # Retroceder a través del árbol para calcular el precio de la opción\n",
        "    for i in range(n - 1, -1, -1):\n",
        "        for j in range(i + 1):\n",
        "            beneficio_ejercicio = max(0, K - precios[i][j])  # Beneficio al ejercer la opción PUT\n",
        "            valor_operacion = math.exp(-r * dt) * (p * pagos_finales[j + 1] + (1 - p) * pagos_finales[j])\n",
        "\n",
        "            # Para el PUT Americano, considerar el ejercicio óptimo en cualquier momento\n",
        "            if tipo_contrato == \"PUT\" and beneficio_ejercicio > valor_operacion:\n",
        "                pagos_finales[j] = beneficio_ejercicio\n",
        "            else:\n",
        "                pagos_finales[j] = valor_operacion\n",
        "\n",
        "    # El precio de la opción está en el nodo inicial\n",
        "    return pagos_finales[0]\n",
        "\n",
        "# Crear widgets\n",
        "tipo_opcion_widget = widgets.Dropdown(options=['Europea', 'Americana'], value='Americana', description='Tipo de Opción:')\n",
        "tipo_contrato_widget = widgets.Dropdown(options=['CALL', 'PUT'], value='PUT', description='Tipo de Contrato:')\n",
        "S_0_widget = widgets.FloatText(value=1200, description='S_0:')\n",
        "K_widget = widgets.FloatText(value=1150, description='K:')\n",
        "r_widget = widgets.FloatText(value=0.1, description='r:')\n",
        "sigma_widget = widgets.FloatText(value=0.15, description='σ:')\n",
        "T_widget = widgets.FloatText(value=0.75, description='T:')\n",
        "n_widget = widgets.IntText(value=3, description='n:')\n",
        "\n",
        "# Crear botón y salida\n",
        "calcular_button = widgets.Button(description='Calcular')\n",
        "output = widgets.Output()\n",
        "\n",
        "# Definir función de cálculo\n",
        "def on_button_click(b):\n",
        "    with output:\n",
        "        tipo_opcion = tipo_opcion_widget.value\n",
        "        tipo_contrato = tipo_contrato_widget.value\n",
        "        S_0 = S_0_widget.value\n",
        "        K = K_widget.value\n",
        "        r = r_widget.value\n",
        "        sigma = sigma_widget.value\n",
        "        T = T_widget.value\n",
        "        n = n_widget.value\n",
        "\n",
        "        # Calcular y mostrar el precio de la opción\n",
        "        precio_opcion = calcular_precio_opcion(tipo_opcion, tipo_contrato, S_0, K, r, sigma, T, n)\n",
        "        print(f\"\\nEl precio de la opción {tipo_contrato} {tipo_opcion} es: {precio_opcion:.4f}\")\n",
        "\n",
        "# Asociar la función al botón\n",
        "calcular_button.on_click(on_button_click)\n",
        "\n",
        "# Mostrar widgets y salida\n",
        "display(tipo_opcion_widget, tipo_contrato_widget, S_0_widget, K_widget, r_widget, sigma_widget, T_widget, n_widget, calcular_button, output)\n"
      ],
      "metadata": {
        "colab": {
          "base_uri": "https://localhost:8080/",
          "height": 725,
          "referenced_widgets": [
            "5abcd06bff924bc991431eca61ccae7a",
            "e56b8fef9ec749b18b7349d3908d0472",
            "2a9ca1f622ca4aabb50d667785ed23ca",
            "ff0244c3cb154b59b5615cceb36e085e",
            "857cd708c168411f929741496fbe2dab",
            "87b953947f93490e9c852f1e2b3cada9",
            "e4021bdaf6a04a70894c8f945cc0fb98",
            "5d120e69b2bd4785926e223bd0553065",
            "c7f9ca9c957b412a931adf462058d2a3",
            "718ef8523ec546f59825b5dfa99f851f",
            "2c4ee079e4d6468d8322eb1dd810f6f5",
            "6051c662f33647ca84cd524e38b1caa0",
            "45fba789a0b74ba5bb3897da9500b1d9",
            "a8aa8d6535ae400298adf0c65cae34e0",
            "8e809b27a5f245278826915c21c2bd63",
            "910d7b489d664b8ebbcb77799fa38ce8",
            "b3b46ef56a59484a91990cb9c7eebe38",
            "673707ce340a4161977aa1cee7a1d416",
            "f90b4c4f87b8442f805a031f8cb0c9bc",
            "895424628cc94e5d82765779ed1ab3b2",
            "07de56fe48e446d185a86090c7847148",
            "107382eb26cd4f579ad52bab4b12fa20",
            "4b16ccf3a08a485d81c31cded57e031a",
            "9439e4907edf411eb3e8f95840c005af",
            "807b165091af4c09b7e81663cd01e34b",
            "1f05018dbc194bf286af56d1a3ad97f4",
            "7bc26edd35104f838890098217e19068",
            "58ec6c1eea384a8293290175c699ff6f",
            "8a8aad698bcb44939d32704cb323c5dc"
          ]
        },
        "id": "-9Uk54YxezXI",
        "outputId": "8ec8b162-e9e2-4e64-e79e-eb5bde48c16d"
      },
      "execution_count": 29,
      "outputs": [
        {
          "output_type": "display_data",
          "data": {
            "text/plain": [
              "Dropdown(description='Tipo de Opción:', index=1, options=('Europea', 'Americana'), value='Americana')"
            ],
            "application/vnd.jupyter.widget-view+json": {
              "version_major": 2,
              "version_minor": 0,
              "model_id": "5abcd06bff924bc991431eca61ccae7a"
            }
          },
          "metadata": {}
        },
        {
          "output_type": "display_data",
          "data": {
            "text/plain": [
              "Dropdown(description='Tipo de Contrato:', index=1, options=('CALL', 'PUT'), value='PUT')"
            ],
            "application/vnd.jupyter.widget-view+json": {
              "version_major": 2,
              "version_minor": 0,
              "model_id": "ff0244c3cb154b59b5615cceb36e085e"
            }
          },
          "metadata": {}
        },
        {
          "output_type": "display_data",
          "data": {
            "text/plain": [
              "FloatText(value=1200.0, description='S_0:')"
            ],
            "application/vnd.jupyter.widget-view+json": {
              "version_major": 2,
              "version_minor": 0,
              "model_id": "e4021bdaf6a04a70894c8f945cc0fb98"
            }
          },
          "metadata": {}
        },
        {
          "output_type": "display_data",
          "data": {
            "text/plain": [
              "FloatText(value=1150.0, description='K:')"
            ],
            "application/vnd.jupyter.widget-view+json": {
              "version_major": 2,
              "version_minor": 0,
              "model_id": "718ef8523ec546f59825b5dfa99f851f"
            }
          },
          "metadata": {}
        },
        {
          "output_type": "display_data",
          "data": {
            "text/plain": [
              "FloatText(value=0.1, description='r:')"
            ],
            "application/vnd.jupyter.widget-view+json": {
              "version_major": 2,
              "version_minor": 0,
              "model_id": "45fba789a0b74ba5bb3897da9500b1d9"
            }
          },
          "metadata": {}
        },
        {
          "output_type": "display_data",
          "data": {
            "text/plain": [
              "FloatText(value=0.15, description='σ:')"
            ],
            "application/vnd.jupyter.widget-view+json": {
              "version_major": 2,
              "version_minor": 0,
              "model_id": "910d7b489d664b8ebbcb77799fa38ce8"
            }
          },
          "metadata": {}
        },
        {
          "output_type": "display_data",
          "data": {
            "text/plain": [
              "FloatText(value=0.75, description='T:')"
            ],
            "application/vnd.jupyter.widget-view+json": {
              "version_major": 2,
              "version_minor": 0,
              "model_id": "f90b4c4f87b8442f805a031f8cb0c9bc"
            }
          },
          "metadata": {}
        },
        {
          "output_type": "display_data",
          "data": {
            "text/plain": [
              "IntText(value=3, description='n:')"
            ],
            "application/vnd.jupyter.widget-view+json": {
              "version_major": 2,
              "version_minor": 0,
              "model_id": "107382eb26cd4f579ad52bab4b12fa20"
            }
          },
          "metadata": {}
        },
        {
          "output_type": "display_data",
          "data": {
            "text/plain": [
              "Button(description='Calcular', style=ButtonStyle())"
            ],
            "application/vnd.jupyter.widget-view+json": {
              "version_major": 2,
              "version_minor": 0,
              "model_id": "807b165091af4c09b7e81663cd01e34b"
            }
          },
          "metadata": {}
        },
        {
          "output_type": "display_data",
          "data": {
            "text/plain": [
              "Output()"
            ],
            "application/vnd.jupyter.widget-view+json": {
              "version_major": 2,
              "version_minor": 0,
              "model_id": "58ec6c1eea384a8293290175c699ff6f"
            }
          },
          "metadata": {}
        }
      ]
    }
  ]
}