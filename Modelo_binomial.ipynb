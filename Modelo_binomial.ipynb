{
  "nbformat": 4,
  "nbformat_minor": 0,
  "metadata": {
    "colab": {
      "provenance": [],
      "authorship_tag": "ABX9TyNvvb9Os/EPM4Gs+PFRSXSt",
      "include_colab_link": true
    },
    "kernelspec": {
      "name": "python3",
      "display_name": "Python 3"
    },
    "language_info": {
      "name": "python"
    }
  },
  "cells": [
    {
      "cell_type": "markdown",
      "metadata": {
        "id": "view-in-github",
        "colab_type": "text"
      },
      "source": [
        "<a href=\"https://colab.research.google.com/github/SolisProcopioUriel/Modelaci-n-financiera/blob/main/Modelo_binomial.ipynb\" target=\"_parent\"><img src=\"https://colab.research.google.com/assets/colab-badge.svg\" alt=\"Open In Colab\"/></a>"
      ]
    },
    {
      "cell_type": "markdown",
      "source": [
        "#Modelo binomial para opciones Americanas"
      ],
      "metadata": {
        "id": "zi_8rhj05klJ"
      }
    },
    {
      "cell_type": "markdown",
      "source": [
        "$S_0$: Precio hoy de la acción\n",
        "\n",
        "$K$: Precio de ejercicio\n",
        "\n",
        "$S_T$: Precio de la acción al vencimiento\n",
        "\n",
        "$r$: TLC\n",
        "\n",
        "$T$: Tiempo al vencimiento\n",
        "\n",
        "$u$: $1+$ porcentaje de subida\n",
        "\n",
        "$d$: $1-$ porcentaje de bajada\n",
        "\n",
        "$C$: precio del call al día de hoy\n",
        "\n",
        "$Cu$: el payoff del call si sube la acción\n",
        "\n",
        "$Cd$: el payoff si baja\n",
        "\n",
        "$\\Delta$: número de acciones para hacer un portafolio riesgo neutral\n",
        "\n",
        "Para calcular $p$ y $1-p$ tendremos lo siguiente\n",
        "\n",
        "  \\begin{align}\n",
        "    p&=\\frac{e^{r\\Delta t}-d}{u-d}\\\\\n",
        "    1-p&= \\frac{u-e^{r\\Delta t}}{d-u}\n",
        "  \\end{align}\n",
        "\n",
        "Donde $\\Delta t = \\frac{T}{n}$, para el rendimiento tendremos\n",
        "\n",
        "Call: $max(S_T-K,0)$\n",
        "\n",
        "Put: $max(k-S_T,0)$\n",
        "\n",
        "Para $n=1$  \n",
        "\n",
        "\\begin{equation}\n",
        "C=e^{-r\\Delta t}[C_u \\cdot p +C_d(1-p)]\n",
        "\\end{equation}\n",
        "            \n",
        "Para $n=2$  \n",
        "\n",
        "\\begin{equation*}\n",
        "C=e^{-2r\\Delta t} \\left[ C_{uu} \\cdot p^2 +2C_{ud}(p)(1-p)+C_{dd}(1-p)^2 \\right]\n",
        "\\end{equation*}\n",
        "\n",
        "Para $n=3$\n",
        "\n",
        "\\begin{equation*}\n",
        "C=e^{-3r\\Delta t} \\left[ C_{uuu} \\cdot p^3 +3C_{uud}(p^2)(1-p)+3C_{udd}(p)(1-p)^2+C_{ddd}(1-p)^3 \\right]\n",
        "\\end{equation*}\n",
        "\n",
        "Finalmente tendremos\n",
        "\n",
        "\\begin{equation*}\n",
        "C = e^{-nr\\Delta t} \\sum_{k=0}^n \\binom{n}{k} (p)^{n-k} (1-p)^k C_{u^{n-k}d^k}\n",
        "\\end{equation*}\n",
        "\n",
        "\n",
        "\n",
        "        \n",
        "        "
      ],
      "metadata": {
        "id": "otwkntsf5s5p"
      }
    },
    {
      "cell_type": "code",
      "execution_count": null,
      "metadata": {
        "id": "WPqanXWa5j9M"
      },
      "outputs": [],
      "source": [
        "import numpy as np\n",
        "from scipy.stats import binom"
      ]
    },
    {
      "cell_type": "code",
      "source": [
        "#Datos de entrada\n",
        "tipo = input('Tipo de opción: 1 Call, 2 Put. Indique 1 o 2. ') or '2'\n",
        "if tipo == '2':\n",
        "  print('Tipo de opción: PUT')\n",
        "if tipo == '1':\n",
        "  print('Tipo de la opción: CALL')\n",
        "\n",
        "spot = float(input('Precio Spot del activo: ') or 100)\n",
        "print('S_0 =', spot)\n",
        "\n",
        "strik = float(input('Precio de ejercicio: ') or 100)\n",
        "print('K =' ,strik)\n",
        "\n",
        "a = float(input('Duración en años: ') or 1.5)\n",
        "print('T =', a)\n",
        "\n",
        "n = int(input('Número de pasos del árbol binomial: ') or 3)\n",
        "print('n = ', n)\n",
        "\n",
        "r = float(input('Tasa de interes libre de riesgo: ') or 0.05)\n",
        "print('r = ', r*100,'%')\n",
        "\n",
        "u = float(input('Factor de subida: ') or 1.2)\n",
        "print('u =', u)\n",
        "\n",
        "d = float(input('Factor de bajada: ') or 0.8)\n",
        "print('d = ', d)"
      ],
      "metadata": {
        "colab": {
          "base_uri": "https://localhost:8080/"
        },
        "id": "WkhhA8xp3UkH",
        "outputId": "9682ba5a-263c-47b1-c9d0-3cef64fbce52"
      },
      "execution_count": null,
      "outputs": [
        {
          "output_type": "stream",
          "name": "stdout",
          "text": [
            "Tipo de opción: 1 Call, 2 Put. Indique 1 o 2. \n",
            "Tipo de opción: PUT\n",
            "Precio Spot del activo: \n",
            "S_0 = 100.0\n",
            "Precio de ejercicio: \n",
            "K = 100.0\n",
            "Duración en años: \n",
            "T = 1.5\n",
            "Número de pasos del árbol binomial: \n",
            "n =  3\n",
            "Tasa de interes libre de riesgo: \n",
            "r =  5.0 %\n",
            "Factor de subida: \n",
            "u = 1.2\n",
            "Factor de bajada: \n",
            "d =  0.8\n"
          ]
        }
      ]
    },
    {
      "cell_type": "code",
      "source": [
        "deltaT = a/n\n",
        "p = (np.exp(r*deltaT)-d)/(u-d)\n",
        "q = 1-p\n",
        "print(\" deltaT = {:.1f}\" .format(deltaT))\n",
        "print(\" p = {:.2f}\" .format(p))\n",
        "print(\" q = {:.2f}\" .format(q))"
      ],
      "metadata": {
        "colab": {
          "base_uri": "https://localhost:8080/"
        },
        "id": "llJQjfudOOjh",
        "outputId": "246fb48b-6776-4605-bed4-ee1d022cc67d"
      },
      "execution_count": null,
      "outputs": [
        {
          "output_type": "stream",
          "name": "stdout",
          "text": [
            " deltaT = 0.5\n",
            " p = 0.56\n",
            " q = 0.44\n"
          ]
        }
      ]
    },
    {
      "cell_type": "code",
      "source": [
        "Sn = [0]*(n+1)\n",
        "for i in range(n+1):\n",
        "  Sn[i] = spot*u**(n-i)*d**i\n",
        "  print('Sn(',i,')=', Sn[i])"
      ],
      "metadata": {
        "colab": {
          "base_uri": "https://localhost:8080/"
        },
        "id": "kgfcnRTQRJqv",
        "outputId": "21b5a915-4a3c-4e88-c684-bf86ada552f3"
      },
      "execution_count": null,
      "outputs": [
        {
          "output_type": "stream",
          "name": "stdout",
          "text": [
            "Sn( 0 )= 172.79999999999998\n",
            "Sn( 1 )= 115.2\n",
            "Sn( 2 )= 76.80000000000001\n",
            "Sn( 3 )= 51.20000000000001\n"
          ]
        }
      ]
    },
    {
      "cell_type": "code",
      "source": [
        "payoff = [0]*(n+1)\n",
        "for i in range(n+1):\n",
        "  if tipo == '1':\n",
        "    payoff[i] = max(0,Sn[i] - strik)\n",
        "  if tipo == '2':\n",
        "    payoff[i] = max(0,strik - Sn[i])\n",
        "\n",
        " # print('payoff(',i,')=', payoff[i])\n",
        "  print('binomial(',i,')=' ,binom.pmf(n-i, n, p))"
      ],
      "metadata": {
        "colab": {
          "base_uri": "https://localhost:8080/"
        },
        "id": "Q-_9rADBGGk_",
        "outputId": "93edaafc-df73-492d-9af0-042ab706d811"
      },
      "execution_count": null,
      "outputs": [
        {
          "output_type": "stream",
          "name": "stdout",
          "text": [
            "binomial( 0 )= 0.17872735920433153\n",
            "binomial( 1 )= 0.41569736370459104\n",
            "binomial( 2 )= 0.3222865989110396\n",
            "binomial( 3 )= 0.08328867818003774\n"
          ]
        }
      ]
    }
  ]
}